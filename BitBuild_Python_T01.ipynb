{
  "metadata": {
    "kernelspec": {
      "name": "python",
      "display_name": "Python (Pyodide)",
      "language": "python"
    },
    "language_info": {
      "codemirror_mode": {
        "name": "python",
        "version": 3
      },
      "file_extension": ".py",
      "mimetype": "text/x-python",
      "name": "python",
      "nbconvert_exporter": "python",
      "pygments_lexer": "ipython3",
      "version": "3.8"
    }
  },
  "nbformat_minor": 4,
  "nbformat": 4,
  "cells": [
    {
      "cell_type": "code",
      "source": "#Question 04\n# Integer\nage = 25\n\n# Float\nheight = 5.9\n\n# String\nname = \"Waseem\"\n\n# Boolean\nis_student = True\n\n# List\nscores = [85, 90, 78]\n\n# Tuple\ncoordinates = (10.0, 20.0)\n\n# Dictionary\nstudent = {\"name\": \"Waseem\", \"age\": 25, \"is_student\": True}\n\n# Set\nunique_numbers = {1, 2, 3, 4, 5}\n\n# NoneType\ndata = None\n",
      "metadata": {
        "trusted": true
      },
      "outputs": [],
      "execution_count": 6
    },
    {
      "cell_type": "code",
      "source": "#Question 05\ndef greet(name):\n    \"\"\"Function to greet a person with their name\"\"\"\n    print(f\"Hello, {name}!\")\n\n# Calling the function\ngreet(\"Waseem\")\n",
      "metadata": {
        "trusted": true
      },
      "outputs": [
        {
          "name": "stdout",
          "text": "Hello, Waseem!\n",
          "output_type": "stream"
        }
      ],
      "execution_count": 7
    },
    {
      "cell_type": "code",
      "source": "#Question 06\n\n# for loop examples\n\n# Iterating Over a List\nfruits = [\"apple\", \"banana\", \"cherry\"]\nfor fruit in fruits:\n    print(f\"Fruit: {fruit}\")\n\nprint(\"\\n\")\n\n# Iterating Over a String\nfor letter in \"Python\":\n    print(f\"Letter: {letter}\")\n\nprint(\"\\n\")\n\n# Using range\nfor i in range(5):\n    print(f\"Number: {i}\")\n\nprint(\"\\n\")\n\n# Iterating Over a Dictionary\nstudent = {\"name\": \"Waseem\", \"age\": 25, \"grade\": \"A\"}\nfor key, value in student.items():\n    print(f\"{key}: {value}\")\n\nprint(\"\\n\")\n\n\n# Basic while Loop\ncount = 0\nwhile count < 5:\n    print(f\"Count (Basic): {count}\")\n    count += 1\n\nprint(\"\\n\")\n\n# Using break Statement\ncount = 0\nwhile count < 5:\n    if count == 3:\n        break\n    print(f\"Count (Break): {count}\")\n    count += 1\n\nprint(\"\\n\")\n\n# Using continue Statement\ncount = 0\nwhile count < 5:\n    count += 1\n    if count == 3:\n        continue\n    print(f\"Count (Continue): {count}\")\n\nprint(\"\\n\")\n\n# Infinite Loop (with break to exit)\ncount = 0\nwhile True:\n    print(f\"Count (Infinite with Break): {count}\")\n    count += 1\n    if count >= 5:\n        break\n",
      "metadata": {
        "trusted": true
      },
      "outputs": [
        {
          "name": "stdout",
          "text": "Fruit: apple\nFruit: banana\nFruit: cherry\n\n\nLetter: P\nLetter: y\nLetter: t\nLetter: h\nLetter: o\nLetter: n\n\n\nNumber: 0\nNumber: 1\nNumber: 2\nNumber: 3\nNumber: 4\n\n\nname: Waseem\nage: 25\ngrade: A\n\n\nCount (Basic): 0\nCount (Basic): 1\nCount (Basic): 2\nCount (Basic): 3\nCount (Basic): 4\n\n\nCount (Break): 0\nCount (Break): 1\nCount (Break): 2\n\n\nCount (Continue): 1\nCount (Continue): 2\nCount (Continue): 4\nCount (Continue): 5\n\n\nCount (Infinite with Break): 0\nCount (Infinite with Break): 1\nCount (Infinite with Break): 2\nCount (Infinite with Break): 3\nCount (Infinite with Break): 4\n",
          "output_type": "stream"
        }
      ],
      "execution_count": 8
    },
    {
      "cell_type": "code",
      "source": "#Question 07\n\n# Creating a list of integers\nnumbers = [1, 2, 3, 4, 5]\nprint(numbers)\n\n# Creating a list of strings\nfruits = [\"apple\", \"banana\", \"cherry\"]\nprint(fruits)\n\n# Creating a list with mixed data types\nmixed_list = [1, \"hello\", 3.14, True]\nprint(mixed_list)\n\n# Creating a nested list (list of lists)\nmatrix = [[1, 2, 3], [4, 5, 6], [7, 8, 9]]\nprint(matrix)\n",
      "metadata": {
        "trusted": true
      },
      "outputs": [
        {
          "name": "stdout",
          "text": "[1, 2, 3, 4, 5]\n['apple', 'banana', 'cherry']\n[1, 'hello', 3.14, True]\n[[1, 2, 3], [4, 5, 6], [7, 8, 9]]\n",
          "output_type": "stream"
        }
      ],
      "execution_count": 9
    },
    {
      "cell_type": "code",
      "source": "#Question 08\n\n# Creating a dictionary of student information\nstudent = {\n    \"name\": \"Waseem\",\n    \"age\": 25,\n    \"grade\": \"A\",\n    \"courses\": [\"Math\", \"Science\"],\n    \"is_student\": True\n}\n\n# Printing the dictionary\nprint(student)\n",
      "metadata": {
        "trusted": true
      },
      "outputs": [
        {
          "name": "stdout",
          "text": "{'name': 'Waseem', 'age': 25, 'grade': 'A', 'courses': ['Math', 'Science'], 'is_student': True}\n",
          "output_type": "stream"
        }
      ],
      "execution_count": 10
    },
    {
      "cell_type": "code",
      "source": "#Question 09\nimport math\n\n# Using a function from the math module\nresult = math.sqrt(16)\nprint(result)  \n",
      "metadata": {
        "trusted": true
      },
      "outputs": [
        {
          "name": "stdout",
          "text": "4.0\n",
          "output_type": "stream"
        }
      ],
      "execution_count": 11
    },
    {
      "cell_type": "code",
      "source": "#Question 10\ntry:\n    # Code that might raise an exception\n    result = 10 / 0\nexcept ZeroDivisionError:\n    # Code to handle the exception\n    print(\"Error: Division by zero is not allowed.\")\n",
      "metadata": {
        "trusted": true
      },
      "outputs": [
        {
          "name": "stdout",
          "text": "Error: Division by zero is not allowed.\n",
          "output_type": "stream"
        }
      ],
      "execution_count": 12
    },
    {
      "cell_type": "code",
      "source": "",
      "metadata": {
        "trusted": true
      },
      "outputs": [],
      "execution_count": null
    }
  ]
}