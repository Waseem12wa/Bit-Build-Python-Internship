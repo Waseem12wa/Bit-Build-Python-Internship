{
  "cells": [
    {
      "cell_type": "code",
      "execution_count": null,
      "metadata": {
        "id": "9fRQNEpj0M0P"
      },
      "outputs": [],
      "source": []
    },
    {
      "cell_type": "code",
      "execution_count": null,
      "metadata": {
        "colab": {
          "base_uri": "https://localhost:8080/"
        },
        "id": "wSnm16dt0P4q",
        "outputId": "80f6a633-575e-45f1-e772-7f6a4f67a63f"
      },
      "outputs": [
        {
          "metadata": {
            "tags": null
          },
          "name": "stderr",
          "output_type": "stream",
          "text": [
            "/usr/local/lib/python3.10/dist-packages/sklearn/metrics/_classification.py:1344: UndefinedMetricWarning: Precision is ill-defined and being set to 0.0 in labels with no predicted samples. Use `zero_division` parameter to control this behavior.\n",
            "  _warn_prf(average, modifier, msg_start, len(result))\n"
          ]
        },
        {
          "metadata": {
            "tags": null
          },
          "name": "stdout",
          "output_type": "stream",
          "text": [
            "Accuracy: 0.10298207663782448, Precision: 0.021323959680386903, Recall: 0.10298207663782448, F1-score: 0.03533162014234297\n"
          ]
        }
      ],
      "source": [
        "import numpy as np\n",
        "import pandas as pd\n",
        "from sklearn.model_selection import train_test_split, cross_val_score\n",
        "from sklearn.feature_extraction.text import TfidfVectorizer\n",
        "from sklearn.pipeline import make_pipeline\n",
        "from sklearn.svm import SVC\n",
        "from sklearn.metrics import accuracy_score, precision_score, recall_score, f1_score\n",
        "import matplotlib.pyplot as plt\n",
        "\n",
        "# Step 1: Load and explore the dataset\n",
        "data = pd.read_csv('/content/drive/MyDrive/Dataset/movie_review.csv')\n",
        "\n",
        "# Step 2: Data cleaning and preprocessing\n",
        "\n",
        "# Step 3: Convert text data into numerical features using TF-IDF\n",
        "vectorizer = TfidfVectorizer(max_features=5000)\n",
        "X = vectorizer.fit_transform(data['tag'])\n",
        "y = data['fold_id']\n",
        "\n",
        "# Step 4: Split the data into training and testing sets\n",
        "X_train, X_test, y_train, y_test = train_test_split(X, y, test_size=0.2, random_state=42)\n",
        "\n",
        "# Step 5: Choose a classification algorithm and train the model\n",
        "model = make_pipeline(SVC(kernel='linear'))\n",
        "model.fit(X_train, y_train)\n",
        "\n",
        "# Step 6: Evaluate the model's performance\n",
        "y_pred = model.predict(X_test)\n",
        "accuracy = accuracy_score(y_test, y_pred)\n",
        "precision = precision_score(y_test, y_pred, average='weighted')\n",
        "recall = recall_score(y_test, y_pred, average='weighted')\n",
        "f1 = f1_score(y_test, y_pred, average='weighted')\n",
        "\n",
        "print(f'Accuracy: {accuracy}, Precision: {precision}, Recall: {recall}, F1-score: {f1}')\n",
        "\n",
        "# Step 7: Fine-tune the model using cross-validation\n",
        "cv_scores = cross_val_score(model, X_train, y_train, cv=5)\n",
        "print(f'Cross-validation Scores: {cv_scores}')\n",
        "print(f'Mean Cross-validation Score: {np.mean(cv_scores)}')\n",
        "\n",
        "# Step 8: Visualize results (optional)\n",
        "new_reviews = pd.read_csv('new_reviews.csv')\n",
        "new_X = vectorizer.transform(new_reviews['tag'])\n",
        "new_predictions = model.predict(new_X)\n",
        "print(f'Predictions for new data:\\n{new_predictions}')\n"
      ]
    },
    {
      "cell_type": "markdown",
      "source": [
        "# New Section"
      ],
      "metadata": {
        "id": "FozEDVFadrSn"
      }
    },
    {
      "cell_type": "code",
      "source": [],
      "metadata": {
        "id": "iR1ip4MVdyNj"
      },
      "execution_count": null,
      "outputs": []
    }
  ],
  "metadata": {
    "colab": {
      "provenance": [],
      "toc_visible": true
    },
    "kernelspec": {
      "display_name": "Python 3",
      "name": "python3"
    },
    "language_info": {
      "name": "python"
    }
  },
  "nbformat": 4,
  "nbformat_minor": 0
}